{
 "cells": [
  {
   "cell_type": "markdown",
   "metadata": {
    "id": "LqyxjCYkHEgx"
   },
   "source": [
    "\n",
    "<div align=\"center\">\n",
    "  <h1></h1>\n",
    "  <h1>Multi-Agent Meal Planning</h1>\n",
    "  <h4 align=\"center\"></h4>\n",
    "</div>"
   ]
  },
  {
   "cell_type": "markdown",
   "metadata": {
    "id": "3xtFXjOSHdJq"
   },
   "source": [
    "\n",
    "In this notebook, I will design and implement a Multi-Agent Meal Planning System that generates meal recommendations while adhering to budgetary and nutritional constraints. Using a team of specialized agents, I'll create a dynamic and interactive system capable of tailoring meal plans to diverse user requirements.\n"
   ]
  },
  {
   "cell_type": "markdown",
   "metadata": {
    "id": "B4PmZxLsHq2w"
   },
   "source": [
    "# 1. Access to GROQ.\n",
    "Execute the following cell to connect to your Groq account."
   ]
  },
  {
   "cell_type": "code",
   "execution_count": 1,
   "metadata": {
    "id": "ZYkvWYtAMYL1"
   },
   "outputs": [
    {
     "name": "stdin",
     "output_type": "stream",
     "text": [
      "Enter GROQ_API_KEY here:  ········\n"
     ]
    }
   ],
   "source": [
    "import os\n",
    "from getpass import getpass\n",
    "\n",
    "tokenGROQ = getpass('Enter GROQ_API_KEY here: ')\n",
    "os.environ[\"GROQ_API_KEY\"] = tokenGROQ"
   ]
  },
  {
   "cell_type": "markdown",
   "metadata": {
    "id": "qHulOeVOMmyD"
   },
   "source": [
    "# 2. Packages\n",
    "Execute the following code cells for installing the packages needed."
   ]
  },
  {
   "cell_type": "code",
   "execution_count": 2,
   "metadata": {
    "id": "efxTjkXiMtyG"
   },
   "outputs": [],
   "source": [
    "!pip install autogen-agentchat \"autogen-ext[openai]\" matplotlib yfinance -q\n",
    "!pip install groq -q"
   ]
  },
  {
   "cell_type": "markdown",
   "metadata": {
    "id": "BUvMKTSAM2NJ"
   },
   "source": [
    "# 3. Problem Statement: Multi-Agent Meal Planning System with Budget Management"
   ]
  },
  {
   "cell_type": "markdown",
   "metadata": {
    "id": "NArOztp59V1n"
   },
   "source": [
    "\n",
    "In this notebook we will design and implement a multi-agent system to assist users in meal planning while addressing the following:\n",
    "\n",
    "* Dietary preferences: Personalization based on restrictions and user preferences.\n",
    "* Nutritional goals: Balanced and healthy meal recommendations.\n",
    "* Financial constraints: Ensuring affordability through budget validation.\n",
    "\n",
    "This system will include a Budget Checker Tool to guarantee all recommendations fit within the user's financial limits.\n",
    "\n",
    "\n",
    "**System**\n",
    "\n",
    "1. Personalized Meal Recommendations:\n",
    "\n",
    "* Provides tailored meal suggestions for breakfast, lunch, dinner, and snacks.\n",
    "* Considers dietary restrictions, time availability, and individual preferences.\n",
    "2. Budget Validation:\n",
    "\n",
    "* Uses the Budget Checker Tool to confirm that meal costs fit within the user’s budget.\n",
    "3. User-Friendly Assistance:\n",
    "\n",
    "* Delivers clear, concise, and actionable recommendations for each meal type.\n",
    "\n",
    "**Agent Roles**\n",
    "\n",
    "1. Breakfast Agent:\n",
    "\n",
    "Role: Recommends breakfast options that align with dietary preferences, preparation time, and nutritional goals.\n",
    "\n",
    "Specialization: Provides a single breakfast suggestion and validates its affordability using the Budget Checker Tool.\n",
    "2. Lunch Agent:\n",
    "\n",
    "Role: Suggests balanced and nutritious lunch options tailored to dietary needs.\n",
    "\n",
    "Specialization: Offers one lunch suggestion and ensures it fits within the budget.\n",
    "\n",
    "3. Dinner Agent:\n",
    "\n",
    "Role: Recommends practical dinner options based on dietary requirements, budget, and preparation constraints.\n",
    "\n",
    "Specialization: Validates that dinner suggestions are both feasible and affordable.\n",
    "\n",
    "4. Snack Agent:\n",
    "\n",
    "Role: Proposes healthy and satisfying snack options to complement the day’s meals.\n",
    "\n",
    "Specialization: Verifies that snack recommendations are affordable and nutritionally balanced.\n",
    "\n",
    "5. Budget Agent:\n",
    "\n",
    "Role: Ensures all meal costs remain within the user's remaining budget by using the Budget Checker Tool.\n",
    "\n",
    "Specialization: Provides real-time budget feedback to guide meal selections and prevent overspending.\n",
    "\n",
    "\n",
    "\n",
    "**Custom Tool: Budget Checker Tool**\n",
    "1. Purpose:\n",
    "\n",
    "* Validates if a proposed meal cost fits within the user’s current budget.\n",
    "\n",
    "2. Features:\n",
    "\n",
    "* Budget Validation: Compares the cost of a meal against the remaining budget.\n",
    "* Feedback: Provides clear, actionable messages indicating:\n",
    "\n",
    "  Whether the cost is affordable.\n",
    "\n",
    "  How much budget remains or is exceeded.\n",
    "\n",
    "* Integration: Used by all meal-specific agents to ensure recommendations are financially feasible."
   ]
  },
  {
   "cell_type": "markdown",
   "metadata": {
    "id": "XbXVJt2bPj_f"
   },
   "source": [
    "# 4. Configure the Model Client:\n",
    "\n",
    "Use the OpenAIChatCompletionClient class to create an instance of the model client.\n",
    "\n",
    "Configure it with the following:\n",
    "\n",
    "* Model name: \"llama3-70b-8192\".\n",
    "\n",
    "* API base URL: \"https://api.groq.com/openai/v1\".\n",
    "\n",
    "* API key: Use an environment variable named \"GROQ_API_KEY\" for secure authentication.\n",
    "\n",
    "* Model settings: Include attributes like whether vision is enabled, function-calling support, and JSON output format."
   ]
  },
  {
   "cell_type": "code",
   "execution_count": 3,
   "metadata": {
    "id": "Bhq1nPdMNzZi"
   },
   "outputs": [
    {
     "name": "stdout",
     "output_type": "stream",
     "text": [
      "<autogen_ext.models.openai._openai_client.OpenAIChatCompletionClient object at 0x10b8af8c0>\n"
     ]
    }
   ],
   "source": [
    "from autogen_ext.models.openai import OpenAIChatCompletionClient\n",
    "\n",
    "# Step 1: Create the model client\n",
    "# Complete the following implementation\n",
    "model_client = OpenAIChatCompletionClient(\n",
    "    model=\"llama3-70b-8192\",\n",
    "    base_url=\"https://api.groq.com/openai/v1\",\n",
    "    api_key=os.environ[\"GROQ_API_KEY\"],\n",
    "    model_info={\n",
    "        \"vision\": False,\n",
    "        \"function_calling\": True,\n",
    "        \"json_output\": False,\n",
    "        \"family\": \"unknown\",\n",
    "        \"temperature\" : 0.7,\n",
    "    },\n",
    ")\n",
    "\n",
    "# Step 2: Verify the client is set up correctly\n",
    "print(model_client)"
   ]
  },
  {
   "cell_type": "markdown",
   "metadata": {
    "id": "tw0V5q65N5fM"
   },
   "source": [
    "# 5. Budget Tracker Tool\n",
    "\n",
    "The provided code implements a Budget Checker Tool to validate whether a given cost is within the current budget."
   ]
  },
  {
   "cell_type": "code",
   "execution_count": 4,
   "metadata": {
    "id": "WzDx9Y0rY_kI"
   },
   "outputs": [],
   "source": [
    "from autogen_core.tools import FunctionTool\n",
    "\n",
    "def budget_checker_tool(cost: float, current_budget: float) -> dict:\n",
    "    \"\"\"\n",
    "    Check if a given cost fits within the current budget.\n",
    "\n",
    "    :param cost: float, the cost to check.\n",
    "    :param current_budget: float, the current remaining budget.\n",
    "    :return: dict, containing whether the cost fits the budget and a message.\n",
    "    \"\"\"\n",
    "    if cost > current_budget:\n",
    "        return {\n",
    "            \"fits_budget\": False,\n",
    "            \"message\": f\"This exceeds your budget by ${cost - current_budget:.2f}.\"\n",
    "        }\n",
    "    return {\n",
    "        \"fits_budget\": True,\n",
    "        \"message\": f\"The cost of ${cost:.2f} fits within your budget.\"\n",
    "    }\n",
    "\n",
    "# Example usage with the FunctionTool\n",
    "budget_checker_tool = FunctionTool(\n",
    "    budget_checker_tool,\n",
    "    description=\"Check if a given cost fits within the current budget.\"\n",
    ")"
   ]
  },
  {
   "cell_type": "markdown",
   "metadata": {
    "id": "tlonsPS0Mtj1"
   },
   "source": [
    "# 6. Agent Design\n",
    "\n",
    "In this task, I will implement a set of specialized Assistant Agents to collaboratively plan meals while addressing dietary, nutritional, and budgetary constraints. I will design Meal Planner Agents for breakfast, lunch, dinner, and snacks, each with clear roles and behavioral instructions."
   ]
  },
  {
   "cell_type": "code",
   "execution_count": 5,
   "metadata": {
    "id": "RI1MB6P-VpN3"
   },
   "outputs": [
    {
     "name": "stdout",
     "output_type": "stream",
     "text": [
      "Agents initialized successfully!\n"
     ]
    }
   ],
   "source": [
    "# Import the required class\n",
    "from autogen_agentchat.agents import AssistantAgent\n",
    "\n",
    "# Step 1: Define the Budget Agent\n",
    "# Complete the following implementation\n",
    "budget_agent = AssistantAgent(\n",
    "    name=\"Budgeting_agent\",\n",
    "    tools=[budget_checker_tool],  # Use the budget checker tool\n",
    "    model_client=model_client,\n",
    "    description=\"Agent is responsible for keeping budget in check.\",\n",
    "    system_message=\"\"\"You are an able budget planning agent. Your job is to use the provided tool to check if budget stays in check\n",
    "    and provide an appropriate response. Collect all the meal costs from various agents, add the cost to single number, then use the tool to check if budget is within limit and\n",
    "    then provide a clear response. If total meal cost is within limit, then ask agents to summarise interactions. If meal is beyond limit\n",
    "    then ask agents to make changes to their recommendations. Total budget should be under 10 Euros.\"\"\"\n",
    ")\n",
    "\n",
    "# Step 2: Define the Breakfast Planner Agent\n",
    "# Complete the following implementation\n",
    "breakfast_agent = AssistantAgent(\n",
    "    name=\"Breakfast_agent\",\n",
    "    model_client=model_client,\n",
    "    description=\"An agent that provides breakfast recommendations.\",\n",
    "    system_message=\"\"\"You are an intelligent breakfast recommender in a team of five agents with respective roles. Just recommend one BREAKFAST option and give its cost. Breakfast option should address given dietary\n",
    "    and nutritional constraints. Also you have to give price for your breakfast recommendation. Only consider budget feedback if available. Reply only to budget agent.\"\"\"\n",
    ")\n",
    "\n",
    "# Step 3: Define the Lunch Planner Agent\n",
    "# Complete the following implementation\n",
    "lunch_agent = AssistantAgent(\n",
    "    name=\"Lunch_agent\",\n",
    "    model_client=model_client,\n",
    "    description=\"An agent that provides lunch recommendations.\",\n",
    "    system_message=\"\"\"You are an intelligent lunch recommender in a team of five agents with respective roles. Just recommend one LUNCH option and give its cost. Lunch option should address given dietary\n",
    "    and nutritional constraints. Also you have to give price for your lunch recommendation. Only consider budget feedback if available. Reply only to budget agent.\"\"\"\n",
    ")\n",
    "\n",
    "# Step 4: Define the Dinner Planner Agent\n",
    "# Complete the following implementation\n",
    "dinner_agent = AssistantAgent(\n",
    "    name=\"Dinner_agent\",\n",
    "    model_client=model_client,\n",
    "    description=\"An agent that provides dinner recommendations.\",\n",
    "    system_message=\"\"\"You are an intelligent dinner recommender in a team of five agents with respective roles.  Just recommend one DINNER and give its cost. Dinner option should address given dietary\n",
    "    and nutritional constraints. Also you have to give price for your dinner recommendation. Only consider budget feedback if available. Reply only to budget agent.\"\"\"\n",
    ")\n",
    "\n",
    "# Step 5: Define the Snack Planner Agent\n",
    "# Complete the following implementation\n",
    "snack_agent = AssistantAgent(\n",
    "    name=\"Snack_agent\",\n",
    "    model_client=model_client,\n",
    "    description=\"An agent that provides snack recommendations.\",\n",
    "    system_message=\"\"\"You are an intelligent snack recommender in a team of five agents with respective roles. Just recommend one SNACK and give its cost. Snack option should address given dietary\n",
    "    and nutritional constraints. Also you have to give price for your snack recommendation. Only consider budget feedback if available. Reply only to budget agent.\"\"\"\n",
    ")\n",
    "\n",
    "# Step 6: Test the agents\n",
    "print(\"Agents initialized successfully!\")\n"
   ]
  },
  {
   "cell_type": "markdown",
   "metadata": {
    "id": "hcm09E50Xycl"
   },
   "source": [
    "# 7. Implementing Termination\n",
    "Implement a MaxMessageTermination with 10 max_messages"
   ]
  },
  {
   "cell_type": "code",
   "execution_count": 6,
   "metadata": {
    "id": "8GY9GviWP2tq"
   },
   "outputs": [],
   "source": [
    "from autogen_agentchat.conditions import MaxMessageTermination\n",
    "# Complete the following implementation\n",
    "termination = MaxMessageTermination(10)"
   ]
  },
  {
   "cell_type": "markdown",
   "metadata": {
    "id": "HDNnnP-mQdDo"
   },
   "source": [
    "# 8. RoundRobinGroupChat\n",
    "\n",
    "In this part, I will implement a RoundRobinGroupChat team to coordinate multiple agents for a meal-planning task. The system will use a sequential approach, ensuring that each agent contributes to the task in a pre-defined order.\n"
   ]
  },
  {
   "cell_type": "code",
   "execution_count": 7,
   "metadata": {
    "id": "QrCkv3UNQ2lZ"
   },
   "outputs": [],
   "source": [
    "from autogen_agentchat.teams import RoundRobinGroupChat\n",
    "from autogen_agentchat.ui import Console\n",
    "# Complete the following implementation\n",
    "team = RoundRobinGroupChat([breakfast_agent, lunch_agent, dinner_agent, snack_agent, budget_agent], termination_condition=termination)"
   ]
  },
  {
   "cell_type": "code",
   "execution_count": 8,
   "metadata": {
    "id": "3UHMm5p8RMMG"
   },
   "outputs": [
    {
     "name": "stdout",
     "output_type": "stream",
     "text": [
      "---------- user ----------\n",
      "Give me respective food recommendations. Nutrition wise : meal should have more high protein. Dietary : vegan. Mention prices for each meal.\n",
      "---------- Breakfast_agent ----------\n",
      "As the Breakfast Agent, I'm happy to recommend a high-protein, vegan breakfast option that meets your dietary and nutritional constraints.\n",
      "\n",
      "**Recommended Breakfast Option:** Tofu Scramble with Quinoa and Roasted Vegetables\n",
      "\n",
      "This breakfast dish is packed with protein-rich tofu, quinoa, and roasted vegetables. Here's a breakdown of the ingredients:\n",
      "\n",
      "* 1/2 cup cooked quinoa (8g protein)\n",
      "* 1/2 cup scrambled tofu (20g protein)\n",
      "* 1 cup mixed roasted vegetables (broccoli, bell peppers, carrots, onions)\n",
      "* 1 tablespoon olive oil\n",
      "* Salt and pepper to taste\n",
      "* Optional: 1 tablespoon nutritional yeast for an extra cheesy flavor\n",
      "\n",
      "**Price:** This breakfast option costs approximately $3.50 per serving.\n",
      "\n",
      "The quinoa provides a complete protein, while the tofu adds an extra boost of protein. This meal is not only delicious but also packed with nutritious ingredients that will keep you energized throughout the morning!\n",
      "---------- Lunch_agent ----------\n",
      "**Lunch Recommendation:**\n",
      "\n",
      "As the Lunch Agent, I'd like to recommend a high-protein, vegan lunch option that meets your dietary and nutritional constraints.\n",
      "\n",
      "**Recommended Lunch Option:** Lentil and Mushroom Wrap with Guacamole\n",
      "\n",
      "This flavorful wrap is filled with protein-rich lentils, mushrooms, and guacamole, all wrapped in a whole-grain vegan tortilla. Here's a breakdown of the ingredients:\n",
      "\n",
      "* 1 whole-grain vegan tortilla\n",
      "* 1/2 cup cooked lentils (18g protein)\n",
      "* 1/2 cup sautéed mushrooms\n",
      "* 1/4 cup guacamole (made with avocado, lime juice, and salt)\n",
      "* Lettuce, tomato, and vegan mayo (optional)\n",
      "\n",
      "**Price:** This lunch option costs approximately $5.25 per serving.\n",
      "\n",
      "The lentils provide a high amount of protein, while the mushrooms add an extra boost of nutrients. The guacamole adds healthy fats, making this meal both satisfying and nutritious. This wrap is a perfect combination of protein, fiber, and flavor!\n",
      "---------- Dinner_agent ----------\n",
      "**Dinner Recommendation:**\n",
      "\n",
      "As the Dinner Agent, I'd like to recommend a high-protein, vegan dinner option that meets your dietary and nutritional constraints.\n",
      "\n",
      "**Recommended Dinner Option:** Vegan Chickpea and Quinoa Bowl with Roasted Vegetables\n",
      "\n",
      "This nutritious bowl is packed with protein-rich chickpeas, quinoa, and roasted vegetables. Here's a breakdown of the ingredients:\n",
      "\n",
      "* 1 cup cooked quinoa (8g protein)\n",
      "* 1 cup cooked chickpeas (15g protein)\n",
      "* 2 cups mixed roasted vegetables (brussels sprouts, sweet potatoes, red onions)\n",
      "* 2 tablespoons olive oil\n",
      "* 1 tablespoon lemon juice\n",
      "* Salt and pepper to taste\n",
      "\n",
      "**Price:** This dinner option costs approximately $6.50 per serving.\n",
      "\n",
      "The quinoa and chickpeas provide a complete protein, while the roasted vegetables add fiber, vitamins, and minerals. This meal is not only delicious but also packed with nutritious ingredients that will keep you full and satisfied until the next meal!\n",
      "---------- Snack_agent ----------\n",
      "**Snack Recommendation:**\n",
      "\n",
      "As the Snack Agent, I'd like to recommend a high-protein, vegan snack option that meets your dietary and nutritional constraints.\n",
      "\n",
      "**Recommended Snack Option:** Roasted Chickpeas with Nutritional Yeast\n",
      "\n",
      "These crunchy roasted chickpeas are seasoned with nutritional yeast, which adds a cheesy flavor and a boost of protein. Here's a breakdown of the ingredients:\n",
      "\n",
      "* 1 cup chickpeas\n",
      "* 2 tablespoons olive oil\n",
      "* 1 teaspoon nutritional yeast\n",
      "* Salt to taste\n",
      "\n",
      "**Price:** This snack option costs approximately $1.75 per serving.\n",
      "\n",
      "The chickpeas provide a good source of protein, while the nutritional yeast adds an extra 8g of protein per serving. This snack is not only delicious but also packed with nutritious ingredients that will keep you full and satisfied between meals!\n",
      "---------- Budgeting_agent ----------\n",
      "[FunctionCall(id='call_skp7', arguments='{\"cost\":17.00,\"current_budget\":10.00}', name='budget_checker_tool')]\n",
      "---------- Budgeting_agent ----------\n",
      "[FunctionExecutionResult(content=\"{'fits_budget': False, 'message': 'This exceeds your budget by $7.00.'}\", call_id='call_skp7')]\n",
      "---------- Budgeting_agent ----------\n",
      "{'fits_budget': False, 'message': 'This exceeds your budget by $7.00.'}\n",
      "---------- Breakfast_agent ----------\n",
      "As the Breakfast Agent, I understand that the total cost of the recommended meals exceeds your budget.\n",
      "\n",
      "Let me try again to recommend a new breakfast option that meets your dietary and nutritional constraints while being more budget-friendly.\n",
      "\n",
      "**New Breakfast Recommendation:** Oatmeal with Banana and Nuts\n",
      "\n",
      "This healthy breakfast option is packed with protein-rich oats, bananas, and nuts. Here's a breakdown of the ingredients:\n",
      "\n",
      "* 1/2 cup rolled oats\n",
      "* 1/2 banana\n",
      "* 1 tablespoon chopped nuts (almonds or walnuts)\n",
      "* Pinch of cinnamon\n",
      "\n",
      "**Price:** This breakfast option costs approximately $1.75 per serving.\n",
      "\n",
      "The oats provide a good source of protein, while the banana adds natural sweetness and the nuts add crunch and healthy fats. This meal is not only delicious but also budget-friendly!\n",
      "---------- Lunch_agent ----------\n",
      "**Lunch Recommendation:**\n",
      "\n",
      "As the Lunch Agent, I'd like to recommend a new high-protein, vegan lunch option that meets your dietary and nutritional constraints while being more budget-friendly.\n",
      "\n",
      "**Recommended Lunch Option:** Hummus and Avocado Wrap\n",
      "\n",
      "This flavorful wrap is filled with protein-rich hummus, avocado, and mixed greens, all wrapped in a whole-grain vegan tortilla. Here's a breakdown of the ingredients:\n",
      "\n",
      "* 1 whole-grain vegan tortilla\n",
      "* 2 tablespoons hummus (5g protein)\n",
      "* 1/2 avocado\n",
      "* Mixed greens\n",
      "* Salt and pepper to taste\n",
      "\n",
      "**Price:** This lunch option costs approximately $2.50 per serving.\n",
      "\n",
      "The hummus provides a good source of protein, while the avocado adds healthy fats and the mixed greens add fiber and nutrients. This wrap is a perfect combination of protein, fiber, and flavor, all within your budget!\n"
     ]
    },
    {
     "data": {
      "text/plain": [
       "TaskResult(messages=[TextMessage(source='user', models_usage=None, content='Give me respective food recommendations. Nutrition wise : meal should have more high protein. Dietary : vegan. Mention prices for each meal.', type='TextMessage'), TextMessage(source='Breakfast_agent', models_usage=RequestUsage(prompt_tokens=105, completion_tokens=200), content=\"As the Breakfast Agent, I'm happy to recommend a high-protein, vegan breakfast option that meets your dietary and nutritional constraints.\\n\\n**Recommended Breakfast Option:** Tofu Scramble with Quinoa and Roasted Vegetables\\n\\nThis breakfast dish is packed with protein-rich tofu, quinoa, and roasted vegetables. Here's a breakdown of the ingredients:\\n\\n* 1/2 cup cooked quinoa (8g protein)\\n* 1/2 cup scrambled tofu (20g protein)\\n* 1 cup mixed roasted vegetables (broccoli, bell peppers, carrots, onions)\\n* 1 tablespoon olive oil\\n* Salt and pepper to taste\\n* Optional: 1 tablespoon nutritional yeast for an extra cheesy flavor\\n\\n**Price:** This breakfast option costs approximately $3.50 per serving.\\n\\nThe quinoa provides a complete protein, while the tofu adds an extra boost of protein. This meal is not only delicious but also packed with nutritious ingredients that will keep you energized throughout the morning!\", type='TextMessage'), TextMessage(source='Lunch_agent', models_usage=RequestUsage(prompt_tokens=314, completion_tokens=219), content=\"**Lunch Recommendation:**\\n\\nAs the Lunch Agent, I'd like to recommend a high-protein, vegan lunch option that meets your dietary and nutritional constraints.\\n\\n**Recommended Lunch Option:** Lentil and Mushroom Wrap with Guacamole\\n\\nThis flavorful wrap is filled with protein-rich lentils, mushrooms, and guacamole, all wrapped in a whole-grain vegan tortilla. Here's a breakdown of the ingredients:\\n\\n* 1 whole-grain vegan tortilla\\n* 1/2 cup cooked lentils (18g protein)\\n* 1/2 cup sautéed mushrooms\\n* 1/4 cup guacamole (made with avocado, lime juice, and salt)\\n* Lettuce, tomato, and vegan mayo (optional)\\n\\n**Price:** This lunch option costs approximately $5.25 per serving.\\n\\nThe lentils provide a high amount of protein, while the mushrooms add an extra boost of nutrients. The guacamole adds healthy fats, making this meal both satisfying and nutritious. This wrap is a perfect combination of protein, fiber, and flavor!\", type='TextMessage'), TextMessage(source='Dinner_agent', models_usage=RequestUsage(prompt_tokens=542, completion_tokens=207), content=\"**Dinner Recommendation:**\\n\\nAs the Dinner Agent, I'd like to recommend a high-protein, vegan dinner option that meets your dietary and nutritional constraints.\\n\\n**Recommended Dinner Option:** Vegan Chickpea and Quinoa Bowl with Roasted Vegetables\\n\\nThis nutritious bowl is packed with protein-rich chickpeas, quinoa, and roasted vegetables. Here's a breakdown of the ingredients:\\n\\n* 1 cup cooked quinoa (8g protein)\\n* 1 cup cooked chickpeas (15g protein)\\n* 2 cups mixed roasted vegetables (brussels sprouts, sweet potatoes, red onions)\\n* 2 tablespoons olive oil\\n* 1 tablespoon lemon juice\\n* Salt and pepper to taste\\n\\n**Price:** This dinner option costs approximately $6.50 per serving.\\n\\nThe quinoa and chickpeas provide a complete protein, while the roasted vegetables add fiber, vitamins, and minerals. This meal is not only delicious but also packed with nutritious ingredients that will keep you full and satisfied until the next meal!\", type='TextMessage'), TextMessage(source='Snack_agent', models_usage=RequestUsage(prompt_tokens=758, completion_tokens=172), content=\"**Snack Recommendation:**\\n\\nAs the Snack Agent, I'd like to recommend a high-protein, vegan snack option that meets your dietary and nutritional constraints.\\n\\n**Recommended Snack Option:** Roasted Chickpeas with Nutritional Yeast\\n\\nThese crunchy roasted chickpeas are seasoned with nutritional yeast, which adds a cheesy flavor and a boost of protein. Here's a breakdown of the ingredients:\\n\\n* 1 cup chickpeas\\n* 2 tablespoons olive oil\\n* 1 teaspoon nutritional yeast\\n* Salt to taste\\n\\n**Price:** This snack option costs approximately $1.75 per serving.\\n\\nThe chickpeas provide a good source of protein, while the nutritional yeast adds an extra 8g of protein per serving. This snack is not only delicious but also packed with nutritious ingredients that will keep you full and satisfied between meals!\", type='TextMessage'), ToolCallRequestEvent(source='Budgeting_agent', models_usage=RequestUsage(prompt_tokens=1929, completion_tokens=85), content=[FunctionCall(id='call_skp7', arguments='{\"cost\":17.00,\"current_budget\":10.00}', name='budget_checker_tool')], type='ToolCallRequestEvent'), ToolCallExecutionEvent(source='Budgeting_agent', models_usage=None, content=[FunctionExecutionResult(content=\"{'fits_budget': False, 'message': 'This exceeds your budget by $7.00.'}\", call_id='call_skp7')], type='ToolCallExecutionEvent'), ToolCallSummaryMessage(source='Budgeting_agent', models_usage=None, content=\"{'fits_budget': False, 'message': 'This exceeds your budget by $7.00.'}\", type='ToolCallSummaryMessage'), TextMessage(source='Breakfast_agent', models_usage=RequestUsage(prompt_tokens=960, completion_tokens=166), content=\"As the Breakfast Agent, I understand that the total cost of the recommended meals exceeds your budget.\\n\\nLet me try again to recommend a new breakfast option that meets your dietary and nutritional constraints while being more budget-friendly.\\n\\n**New Breakfast Recommendation:** Oatmeal with Banana and Nuts\\n\\nThis healthy breakfast option is packed with protein-rich oats, bananas, and nuts. Here's a breakdown of the ingredients:\\n\\n* 1/2 cup rolled oats\\n* 1/2 banana\\n* 1 tablespoon chopped nuts (almonds or walnuts)\\n* Pinch of cinnamon\\n\\n**Price:** This breakfast option costs approximately $1.75 per serving.\\n\\nThe oats provide a good source of protein, while the banana adds natural sweetness and the nuts add crunch and healthy fats. This meal is not only delicious but also budget-friendly!\", type='TextMessage'), TextMessage(source='Lunch_agent', models_usage=RequestUsage(prompt_tokens=1135, completion_tokens=185), content=\"**Lunch Recommendation:**\\n\\nAs the Lunch Agent, I'd like to recommend a new high-protein, vegan lunch option that meets your dietary and nutritional constraints while being more budget-friendly.\\n\\n**Recommended Lunch Option:** Hummus and Avocado Wrap\\n\\nThis flavorful wrap is filled with protein-rich hummus, avocado, and mixed greens, all wrapped in a whole-grain vegan tortilla. Here's a breakdown of the ingredients:\\n\\n* 1 whole-grain vegan tortilla\\n* 2 tablespoons hummus (5g protein)\\n* 1/2 avocado\\n* Mixed greens\\n* Salt and pepper to taste\\n\\n**Price:** This lunch option costs approximately $2.50 per serving.\\n\\nThe hummus provides a good source of protein, while the avocado adds healthy fats and the mixed greens add fiber and nutrients. This wrap is a perfect combination of protein, fiber, and flavor, all within your budget!\", type='TextMessage')], stop_reason='Maximum number of messages 10 reached, current message count: 10')"
      ]
     },
     "execution_count": 8,
     "metadata": {},
     "output_type": "execute_result"
    }
   ],
   "source": [
    "# Complete the following implementation\n",
    "await Console(team.run_stream(task=\"\"\"Give me respective food recommendations. Nutrition wise : meal should have more high protein. Dietary : vegan. Mention prices for each meal.\"\"\"))"
   ]
  },
  {
   "cell_type": "markdown",
   "metadata": {
    "id": "jhxsIaFrd0At"
   },
   "source": [
    "Expected output should show the following:\n",
    "\n",
    "**Agents' Initial Suggestions:** Each agent provides meal recommendations (e.g., breakfast, lunch, dinner, snack) with corresponding costs.\n",
    "\n",
    "**Budget Validation:** The Budget_Agent uses the budget_checker_tool to validate if the total cost fits within the budget. If it doesn't, the agent provides a clear message explaining how much the budget is exceeded.\n",
    "\n",
    "**Adjustments by Agents:** If the budget is exceeded, agents revise their recommendations to bring the total cost within the budget.\n",
    "\n",
    "**Task Completion:** The system stops after reaching the maximum number of allowed messages, with a summary of the interactions."
   ]
  },
  {
   "cell_type": "code",
   "execution_count": null,
   "metadata": {
    "id": "nTTOGInkgqyl"
   },
   "outputs": [],
   "source": []
  }
 ],
 "metadata": {
  "colab": {
   "provenance": []
  },
  "kernelspec": {
   "display_name": "Python 3 (ipykernel)",
   "language": "python",
   "name": "python3"
  },
  "language_info": {
   "codemirror_mode": {
    "name": "ipython",
    "version": 3
   },
   "file_extension": ".py",
   "mimetype": "text/x-python",
   "name": "python",
   "nbconvert_exporter": "python",
   "pygments_lexer": "ipython3",
   "version": "3.10.14"
  }
 },
 "nbformat": 4,
 "nbformat_minor": 4
}
